{
 "cells": [
  {
   "cell_type": "markdown",
   "id": "6c6593e2",
   "metadata": {},
   "source": [
    "## The Equations of motion for 3-bodies\n",
    "---\n",
    " We know $F = \\frac{G m_i m_j}{r^2}$,  where $r = \\sqrt{(x_i - x_j)^2 + (y_i - y_j)^2}$\n",
    "\n",
    "and for $r = \\sqrt{(x_i - x_j)^2 + (y_i - y_j)^2}$, we have: $\\vec{r_i} = x_i\\hat{x}+y_i\\hat{y}$, ($i = 1,2,3,...$)\n",
    "\n",
    "and we also know: $\\vec{F} = m\\vec{a}$ \n",
    "\n",
    "so, for mass1 and mass2, we know the force between them:\n",
    "\n",
    "in x direction:\n",
    "\n",
    "$\\ddot{x_1} =  \\frac{G m_2}{(x_1 - x_2)^2 + (y_1 - y_2)^2} \\frac{x_2 - x_1}{\\sqrt{(x_1 - x_2)^2 + (y_1 - y_2)^2)}}$ \n",
    "\n",
    "in y direction:\n",
    "\n",
    "$\\ddot{y_1} =  \\frac{G m_2}{(x_1 - x_2)^2 + (y_1 - y_2)^2} \\frac{y_2 - y_1}{\\sqrt{(x_1 - x_2)^2 + (y_1 - y_2)^2)}}$ \n",
    "\n",
    "in same way. we  could get: \n",
    "\n",
    "for $m_i$\n",
    "\n",
    "$\\ddot{x_i} = \\sum_{j=1}^{n} \\frac{G m_j}{[(x_i - x_j)^2 + (y_i - y_j)^2]^\\frac{3}{2}} (x_j - x_i)$ \n",
    "\n",
    "$\\ddot{y_i} = \\sum_{j=1}^{n} \\frac{G m_j}{[(x_i - x_j)^2 + (y_i - y_j)^2]^\\frac{3}{2}} (y_j - y_i)$"
   ]
  },
  {
   "cell_type": "code",
   "execution_count": null,
   "id": "a13ee76f",
   "metadata": {},
   "outputs": [],
   "source": [
    "import numpy as np\n",
    "import matplotlib.pyplot as plt\n",
    "from scipy.integrate import odeint, solve_ivp\n",
    "from matplotlib import animation, rc\n",
    "from IPython.display import HTML"
   ]
  },
  {
   "cell_type": "code",
   "execution_count": null,
   "id": "b8853c0c",
   "metadata": {},
   "outputs": [],
   "source": [
    "# Change the common font size\n",
    "font_size = 14\n",
    "plt.rcParams.update({'font.size': font_size})"
   ]
  },
  {
   "cell_type": "code",
   "execution_count": null,
   "id": "fd1b92a2",
   "metadata": {},
   "outputs": [],
   "source": [
    "class GravitationalOrbist:\n",
    "    \"\"\"\n",
    "    This class implements the parameters and Larange's equations for two particles orbiting\n",
    "    under gravitational attraction.\n",
    "    \n",
    "    Parameters\n",
    "    ----------\n",
    "    m_1 : \n",
    "        type:float\n",
    "        Physical meaning: mass\n",
    "    m_2 : \n",
    "        type:float\n",
    "        Physical meaning: mass\n",
    "    m_3 : \n",
    "        type:float\n",
    "        Physical meaning: mass\n",
    "    G : \n",
    "        type:float\n",
    "        Physical meaning: G\n",
    "\n",
    "    Methods\n",
    "    ----------\n",
    "    dy_dt(t, y)\n",
    "        This function returns the right-hand side of the diffeq: \n",
    "        [dy/dt d^2y/dt^2]\n",
    "    \"\"\"\n",
    "    \n",
    "    def __init__(self, m_1=1, m_2=1, m_3 = 1, G=1):\n",
    "        self.m_1 = m_1\n",
    "        self.m_2 = m_2\n",
    "        self.m_3 = m_3\n",
    "        self.G = G\n",
    "        \n",
    "    def dy_dt(self, t, y):\n",
    "        \"\"\"\n",
    "        This function returns the right-hand side of the diffeq: \n",
    "        \n",
    "        Parameters\n",
    "        ----------\n",
    "        t : \n",
    "            type: float\n",
    "            Physical meaning: time \n",
    "        y : \n",
    "            type: float\n",
    "            Physical meaning: 12-component vector with \n",
    "            y[0] = x1(t), y[1] = dx1(t)/dt, \n",
    "            y[2] = y1(t), y[3] = dy1(t)/dt, \n",
    "            y[4] = x2(t), y[5] = dx2(t)/dt, \n",
    "            y[6] = y2(t), y[7] = dy2(t)/dt, \n",
    "            y[8] = x3(t), y[9] = dx3(t)/dt, \n",
    "            y[10] = y3(t), y[11] = dy3(t)/dt, \n",
    "            \n",
    "        \"\"\"\n",
    "        # Denominator that shows up in all of the equations   \n",
    "        x_dot_1 = y[1]\n",
    "        y_dot_1 = y[3]\n",
    "        x_dot_2 = y[5]\n",
    "        y_dot_2 = y[7]\n",
    "        x_dot_3 = y[9]\n",
    "        y_dot_3 = y[11]\n",
    "        \n",
    "        r_12 = ((y[4]-y[0])**2 + (y[6]-y[2])**2)**(3/2) #r for mass 1 and 2\n",
    "        r_13 = ((y[8]-y[0])**2 + (y[10]-y[2])**2)**(3/2) #r for mass 1 and 3\n",
    "        r_23 = ((y[8]-y[4])**2 + (y[10]-y[6])**2)**(3/2) #r for mass 2 and 3\n",
    " \n",
    "        x_dot_dot_1 = self.G*self.m_3*(y[8]-y[0])/(r_13) + self.G*self.m_2*(y[4]-y[0])/(r_12)\n",
    "        y_dot_dot_1 = self.G*self.m_3*(y[10]-y[2])/(r_13) + self.G*self.m_2*(y[6]-y[2])/(r_12)\n",
    "        x_dot_dot_2 = self.G*self.m_1*(y[0]-y[4])/(r_12)+self.G*self.m_3*(y[8]-y[4])/(r_23)\n",
    "        y_dot_dot_2 = self.G*self.m_1*(y[2]-y[6])/(r_12)+self.G*self.m_3*(y[10]-y[6])/(r_23)\n",
    "        x_dot_dot_3 = self.G*self.m_2*(y[4]-y[8])/(r_23) + self.G*self.m_1*(y[0]-y[8])/(r_13)\n",
    "        y_dot_dot_3 = self.G*self.m_1*(y[2]-y[10])/(r_13)+self.G*self.m_2*(y[6]-y[10])/(r_23)\n",
    "               \n",
    "        \n",
    "        return x_dot_1, x_dot_dot_1, y_dot_1, y_dot_dot_1, x_dot_2, x_dot_dot_2, y_dot_2, y_dot_dot_2, x_dot_3, x_dot_dot_3, y_dot_3, y_dot_dot_3\n",
    "    \n",
    "    \n",
    "        \n",
    "    def solve_ode(self, t_pts, x_1_0, x_dot_1_0, y_1_0, y_dot_1_0, x_2_0, x_dot_2_0, y_2_0, y_dot_2_0, x_3_0, x_dot_3_0, y_3_0, y_dot_3_0,\n",
    "                  method='RK23',\n",
    "                  abserr=1.0e-8, relerr=1.0e-8):\n",
    "        \"\"\"\n",
    "        Solve the ODE given initial conditions.\n",
    "        Specify smaller abserr and relerr to get more precision.\n",
    "        \n",
    "        \"\"\"\n",
    "        \n",
    "        y = [x_1_0, x_dot_1_0, y_1_0, y_dot_1_0, x_2_0, x_dot_2_0, y_2_0, y_dot_2_0, x_3_0, x_dot_3_0, y_3_0, y_dot_3_0]  \n",
    "        solution = solve_ivp(self.dy_dt, (t_pts[0], t_pts[-1]), \n",
    "                             y, t_eval=t_pts, method=method, \n",
    "                             atol=abserr, rtol=relerr)\n",
    "        \n",
    "        x_1, x_dot_1, y_1, y_dot_1, x_2, x_dot_2, y_2, y_dot_2, x_3, x_dot_3, y_3, y_dot_3 = solution.y\n",
    "        \n",
    "        return x_1, x_dot_1, y_1, y_dot_1, x_2, x_dot_2, y_2, y_dot_2, x_3, x_dot_3, y_3, y_dot_3"
   ]
  },
  {
   "cell_type": "code",
   "execution_count": null,
   "id": "94bd7e2f",
   "metadata": {},
   "outputs": [],
   "source": [
    "def start_stop_indices(t_pts, plot_start, plot_stop):\n",
    "    start_index = (np.fabs(t_pts-plot_start)).argmin()  # index in t_pts array \n",
    "    stop_index = (np.fabs(t_pts-plot_stop)).argmin()  # index in t_pts array \n",
    "    return start_index, stop_index\n",
    "\n",
    "# Setting initial value\n",
    "m_1 = 10.\n",
    "m_2 = 15.\n",
    "m_3 = 10.\n",
    "G = 1.\n",
    "\n",
    "x_2_0, x_dot_2_0 = 2, 0.5\n",
    "y_2_0, y_dot_2_0 = 1., 2\n",
    "x_3_0, x_dot_3_0 = -2, 0\n",
    "y_3_0, y_dot_3_0 = 0., -1.2\n",
    "x_1_0, x_dot_1_0 = 0., -(x_dot_2_0*m_2+x_dot_3_0*m_3)/m_1\n",
    "y_1_0, y_dot_1_0 = 0., -(y_dot_2_0*m_2+y_dot_3_0*m_3)/m_1\n",
    "\n",
    "t_start = 0.\n",
    "t_end = 30.\n",
    "delta_t = 0.01\n",
    "t_pts = np.arange(t_start, t_end+delta_t, delta_t)  \n",
    "\n",
    "o1 = GravitationalOrbist(m_1 = m_1, m_2 = m_2, m_3 = m_3, G = G)\n",
    "\n",
    "x_1, x_dot_1, y_1, y_dot_1, x_2, x_dot_2, y_2, y_dot_2, x_3, x_dot_3, y_3, y_dot_3 = o1.solve_ode(t_pts, x_1_0, x_dot_1_0, y_1_0, y_dot_1_0, x_2_0, x_dot_2_0, y_2_0, y_dot_2_0,x_3_0, x_dot_3_0, y_3_0, y_dot_3_0)"
   ]
  },
  {
   "cell_type": "markdown",
   "id": "7d4ca977",
   "metadata": {},
   "source": [
    "Everything is ready, now start making the graphs"
   ]
  },
  {
   "cell_type": "code",
   "execution_count": null,
   "id": "35b75530",
   "metadata": {},
   "outputs": [],
   "source": [
    "fig = plt.figure(figsize=(8,8))\n",
    "\n",
    "ax_4a = fig.add_subplot(1,1,1)\n",
    "ax_4a.plot(x_1, y_1, color='red', label='m_1')\n",
    "ax_4a.plot(x_2, y_2, color='orange', label='m_2')\n",
    "ax_4a.plot(x_3, y_3, color='blue', label='m_3')\n",
    "\n",
    "ax_4a.set_ylim(-6,6)\n",
    "ax_4a.set_xlim(-6,6)\n",
    "\n",
    "ax_4a.set_title('Orbit: Three Body')\n",
    "ax_4a.set_xlabel('x')\n",
    "ax_4a.set_ylabel('y')\n",
    "\n",
    "ax_4a.legend()"
   ]
  },
  {
   "cell_type": "code",
   "execution_count": null,
   "id": "7262c396",
   "metadata": {},
   "outputs": [],
   "source": [
    "x_min = min([min(x_1),min(x_2),min(x_3)]) \n",
    "y_min = min([min(y_1),min(y_2),max(x_3)]) \n",
    "\n",
    "x_max = max([max(x_1),max(x_2),min(x_3)]) \n",
    "y_max = max([max(y_1),max(y_2),max(x_3)]) \n",
    "\n",
    "gap = 5\n",
    "fig_animate = plt.figure(figsize=(6,6), num='Orbit: Three Body')\n",
    "ax_animate = fig_animate.add_subplot(1,1,1)\n",
    "ax_animate.set_xlim(x_min-gap, x_max+gap)\n",
    "ax_animate.set_ylim(y_min-gap, y_max+gap)\n",
    "\n",
    "# By assigning the first return from plot to line_anim, we can later change\n",
    "#  the values in the line.\n",
    "graph_animate_1, = ax_animate.plot(x_1[0], y_1[0], '*', markersize=5, color='red',)\n",
    "graph_animate_2, = ax_animate.plot(x_2[0], y_2[0],  '*', markersize=5, color='orange')\n",
    "graph_animate_3, = ax_animate.plot(x_3[0], y_3[0],  '*', markersize=5, color='blue')\n"
   ]
  },
  {
   "cell_type": "code",
   "execution_count": null,
   "id": "3e390378",
   "metadata": {},
   "outputs": [],
   "source": [
    "def animate_orbit(i):\n",
    "    \"\"\"\n",
    "    This function called by FuncAnimation to create each frame,\n",
    "    numbered by i.  \n",
    "    So each i corresponds to a point in the t_pts(array) with index i. \n",
    "    \"\"\"\n",
    "\n",
    "    graph_animate_1.set_data(x_1[i], y_1[i])  # overwrite graph_animate with new points\n",
    "    graph_animate_2.set_data(x_2[i], y_2[i])  \n",
    "    graph_animate_3.set_data(x_3[i], y_3[i])  \n",
    "    return (graph_animate_1, graph_animate_2, graph_animate_3)   \n"
   ]
  },
  {
   "cell_type": "code",
   "execution_count": null,
   "id": "804e9964",
   "metadata": {},
   "outputs": [],
   "source": [
    "frame_interval = 5.  # time between frames\n",
    "frame_number = 2000 # number of frames (ie. index of t_pts)\n",
    "anim = animation.FuncAnimation(fig_animate, \n",
    "                               animate_orbit, \n",
    "                               init_func=None,\n",
    "                               frames=frame_number, \n",
    "                               interval=frame_interval, \n",
    "                               blit=True,\n",
    "                               repeat=False)\n",
    "\n",
    "#fig.show()\n"
   ]
  },
  {
   "cell_type": "code",
   "execution_count": null,
   "id": "cfeb326c",
   "metadata": {},
   "outputs": [],
   "source": [
    "HTML(anim.to_jshtml())"
   ]
  },
  {
   "cell_type": "markdown",
   "id": "cfffb446",
   "metadata": {},
   "source": [
    "### Comment"
   ]
  },
  {
   "cell_type": "markdown",
   "id": "c4cd77ca",
   "metadata": {},
   "source": [
    "The three-body system is a complex system, and I spent a long time looking for a seemingly \"good\" orbit, because this system is very sensitive to any perturbations"
   ]
  },
  {
   "cell_type": "markdown",
   "id": "fc689683",
   "metadata": {},
   "source": [
    "But this is only the intake of three objects; in fact, if we study the laws of motion of electrons in some solid, we will be dealing with $10^{23}$ electrons which is completely unmanageable."
   ]
  },
  {
   "cell_type": "markdown",
   "id": "d10c6826",
   "metadata": {},
   "source": [
    "But physics did not stop there, and with the famous phrase *More is Different*, physics has given rise to a completely different field (condensed matter physics) and a different philosophy (Emergentism)."
   ]
  },
  {
   "cell_type": "code",
   "execution_count": null,
   "id": "4ce0684d",
   "metadata": {},
   "outputs": [],
   "source": []
  }
 ],
 "metadata": {
  "kernelspec": {
   "display_name": "Python 3 (ipykernel)",
   "language": "python",
   "name": "python3"
  },
  "language_info": {
   "codemirror_mode": {
    "name": "ipython",
    "version": 3
   },
   "file_extension": ".py",
   "mimetype": "text/x-python",
   "name": "python",
   "nbconvert_exporter": "python",
   "pygments_lexer": "ipython3",
   "version": "3.9.12"
  }
 },
 "nbformat": 4,
 "nbformat_minor": 5
}
